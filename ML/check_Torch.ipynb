{
 "cells": [
  {
   "cell_type": "code",
   "execution_count": null,
   "metadata": {},
   "outputs": [],
   "source": [
    "! nvcc --version"
   ]
  },
  {
   "cell_type": "code",
   "execution_count": null,
   "metadata": {},
   "outputs": [],
   "source": [
    "! nvidia-smi"
   ]
  },
  {
   "cell_type": "code",
   "execution_count": null,
   "metadata": {},
   "outputs": [],
   "source": [
    "# 卸载\n",
    "# ! pip uninstall torch torchvision torchaudio -y"
   ]
  },
  {
   "cell_type": "code",
   "execution_count": null,
   "metadata": {},
   "outputs": [],
   "source": [
    "# ! pip3 install torch torchvision torchaudio"
   ]
  },
  {
   "cell_type": "markdown",
   "metadata": {},
   "source": [
    "指定版本"
   ]
  },
  {
   "cell_type": "code",
   "execution_count": null,
   "metadata": {},
   "outputs": [],
   "source": [
    "# ! pip3 install torch torchvision torchaudio  --index-url https://download.pytorch.org/whl/cu124 "
   ]
  },
  {
   "cell_type": "markdown",
   "metadata": {},
   "source": [
    "指定版本"
   ]
  },
  {
   "cell_type": "code",
   "execution_count": null,
   "metadata": {},
   "outputs": [],
   "source": [
    "# ! pip install pytorch torchvision torchaudio pytorch-cuda=12.4 -c pytorch -c nvidia"
   ]
  },
  {
   "cell_type": "code",
   "execution_count": null,
   "metadata": {},
   "outputs": [],
   "source": [
    "import torch\n",
    "print(torch.__version__) #查看pytorch版本\n",
    "print(torch.version.cuda) #查看pytorch 对应的cuda版本\n",
    "print(torch.cuda.is_available())  #cuda是否可用\n",
    "print(torch.zeros(1).cuda()) #\n",
    "print(torch.cuda.device_count() )# 返回gpu数量\n",
    "print(torch.cuda.get_device_name(0))# 返回gpu名字\n",
    "print(torch.cuda.current_device())  # 返回当前设备索引\n",
    "print(torch.tensor([0]).get_device())# 查看tensor或者model在哪块GPU上\n",
    "\n",
    "print(torch.backends.cudnn.version())#查看cudnn版本\n",
    "\n",
    "a = torch.tensor(1.)\n",
    "print(a.cuda())\n",
    "from torch.backends import cudnn # 若正常则静默\n",
    "print(cudnn.is_available()) # 若正常返回True\n",
    "print(cudnn.is_acceptable(a.cuda())) # 若正常返回True\n"
   ]
  }
 ],
 "metadata": {
  "kernelspec": {
   "display_name": "ttk",
   "language": "python",
   "name": "python3"
  },
  "language_info": {
   "codemirror_mode": {
    "name": "ipython",
    "version": 3
   },
   "file_extension": ".py",
   "mimetype": "text/x-python",
   "name": "python",
   "nbconvert_exporter": "python",
   "pygments_lexer": "ipython3",
   "version": "3.10.16"
  }
 },
 "nbformat": 4,
 "nbformat_minor": 2
}
