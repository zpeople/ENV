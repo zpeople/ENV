{
 "cells": [
  {
   "cell_type": "code",
   "execution_count": null,
   "metadata": {},
   "outputs": [],
   "source": [
    "! pip uninstall -y tensorflow"
   ]
  },
  {
   "cell_type": "code",
   "execution_count": null,
   "metadata": {},
   "outputs": [],
   "source": [
    "! pip install  tensorflow==2.16.1"
   ]
  },
  {
   "cell_type": "code",
   "execution_count": null,
   "metadata": {},
   "outputs": [],
   "source": [
    "import tensorflow as tf\n",
    "tf.__version__"
   ]
  },
  {
   "cell_type": "markdown",
   "metadata": {},
   "source": []
  },
  {
   "cell_type": "code",
   "execution_count": null,
   "metadata": {},
   "outputs": [],
   "source": [
    "import tensorflow as tf\n",
    "# 检查 GPU 是否可用\n",
    "try:\n",
    "  \n",
    "    tpu = tf.distribute.cluster_resolver.TPUClusterResolver()\n",
    "    print('Device:', tpu.master())\n",
    "    \n",
    "    tf.config.experimental_connect_to_cluster(tpu)\n",
    "    tf.tpu.experimental.initialize_tpu_system(tpu)\n",
    "    strategy = tf.distribute.experimental.TPUStrategy(tpu)\n",
    "except ValueError:  \n",
    "    print(\"No TPU found, using default strategy.\")\n",
    "    gpus = tf.config.list_physical_devices('GPU')\n",
    "    if gpus:\n",
    "        try:\n",
    "            \n",
    "            for gpu in gpus:\n",
    "                tf.config.experimental.set_memory_growth(gpu, True)\n",
    "            strategy = tf.distribute.MirroredStrategy()\n",
    "            print(\"Using MirroredStrategy for GPU distribution.\")\n",
    "        except RuntimeError as e:\n",
    "            print(e)\n",
    "    else:\n",
    "        strategy = tf.distribute.get_strategy()\n",
    "        print(\"No GPUS found, using default strategy.\")\n",
    "\n",
    "print('Number of replicas:', strategy.num_replicas_in_sync)\n",
    "\n"
   ]
  },
  {
   "cell_type": "code",
   "execution_count": 5,
   "metadata": {},
   "outputs": [
    {
     "name": "stdout",
     "output_type": "stream",
     "text": [
      "cpu: 25.71707400000014   gpu: 25.53123329999994\n",
      "Num GPUs Available:  0\n"
     ]
    }
   ],
   "source": [
    "import tensorflow as tf\n",
    "import timeit\n",
    " \n",
    "#指定在cpu上运行\n",
    "def cpu_run():\n",
    "    with tf.device('/cpu:0'):\n",
    "        cpu_a = tf.random.normal([10000, 1000])\n",
    "        cpu_b = tf.random.normal([1000, 2000])\n",
    "        c = tf.matmul(cpu_a, cpu_b)\n",
    "    return c\n",
    "\n",
    "#指定在gpu上运行 \n",
    "def gpu_run():\n",
    "    with tf.device('/gpu:0'):\n",
    "        gpu_a = tf.random.normal([10000, 1000])\n",
    "        gpu_b = tf.random.normal([1000, 2000])\n",
    "        c = tf.matmul(gpu_a, gpu_b)\n",
    "    return c\n",
    "\n",
    "cpu_time = timeit.timeit(cpu_run, number=100)\n",
    "gpu_time = timeit.timeit(gpu_run, number=100)\n",
    "print(\"cpu:\", cpu_time, \"  gpu:\", gpu_time)\n",
    "physical_devices = tf.config.list_physical_devices('GPU')\n",
    "print(\"Num GPUs Available: \", len(physical_devices))"
   ]
  },
  {
   "cell_type": "code",
   "execution_count": 6,
   "metadata": {},
   "outputs": [
    {
     "name": "stdout",
     "output_type": "stream",
     "text": [
      "TensorFlow 版本: 2.16.1\n",
      "GPU is not available, using CPU\n",
      "GPU 测试计算结果: [5. 7. 9.]\n"
     ]
    },
    {
     "data": {
      "text/plain": [
       "\"################################################################\\n# 函数功能：用于配置 GPU 内存管理。\\n# 函数说明：tf.config.experimental.set_memory_growth(device, enable)\\n# 参数说明：\\n#         device      要配置的物理设备对象（如:'GPU'、'CPU'、'TPU'）\\n#         enable      内存增长模式的启用状态（bool类型）。\\n#                     （1）若为True, 启用按需分配内存的模式。即 TensorFlow 将在需要时动态增加 GPU 内存，而不是一次性分配整个 GPU 的内存空间。\\n#                     （2）若为False，禁用按需分配内存的模式。即 TensorFlow 会一次性分配整个 GPU 的内存空间。\\n################################################################\""
      ]
     },
     "execution_count": 6,
     "metadata": {},
     "output_type": "execute_result"
    }
   ],
   "source": [
    "import tensorflow as tf\n",
    "\n",
    "\n",
    "def check_tensorflow_gpu():\n",
    "    print(\"TensorFlow 版本:\", tf.__version__)\n",
    "    if tf.test.is_gpu_available():\n",
    "        print(\"GPU is available\")\n",
    "    else:\n",
    "        print(\"GPU is not available, using CPU\")\n",
    "\n",
    "    # 测试 GPU 上的简单计算\n",
    "    try:\n",
    "        # with tf.compat.v1.Session() as sess:# 2.0版本的tf.compat.v1.Session()，2.0版本的tf.Session()已经被弃用\n",
    "            with tf.device('/GPU:0'):\n",
    "                a = tf.constant([1.0, 2.0, 3.0])\n",
    "                b = tf.constant([4.0, 5.0, 6.0])\n",
    "                c = a + b\n",
    "                # result = sess.run(c)\n",
    "                result = c.numpy()\n",
    "                print(\"GPU 测试计算结果:\", result)\n",
    "    except RuntimeError as e:\n",
    "        print(f\"GPU 计算错误: {e}\")\n",
    "\n",
    "\n",
    "\n",
    "check_tensorflow_gpu()\n",
    "\n",
    "\n",
    "gpus = tf.config.experimental.list_physical_devices('GPU')\n",
    "if gpus:  # 检查是否至少存在一个GPU设备。\n",
    "    try:\n",
    "        for gpu in gpus:\n",
    "            tf.config.experimental.set_memory_growth(gpu, True)\n",
    "    except RuntimeError as e:\n",
    "        print(e)\n",
    "\n",
    "\"\"\"################################################################\n",
    "# 函数功能：用于配置 GPU 内存管理。\n",
    "# 函数说明：tf.config.experimental.set_memory_growth(device, enable)\n",
    "# 参数说明：\n",
    "#         device      要配置的物理设备对象（如:'GPU'、'CPU'、'TPU'）\n",
    "#         enable      内存增长模式的启用状态（bool类型）。\n",
    "#                     （1）若为True, 启用按需分配内存的模式。即 TensorFlow 将在需要时动态增加 GPU 内存，而不是一次性分配整个 GPU 的内存空间。\n",
    "#                     （2）若为False，禁用按需分配内存的模式。即 TensorFlow 会一次性分配整个 GPU 的内存空间。\n",
    "################################################################\"\"\"\n"
   ]
  },
  {
   "cell_type": "code",
   "execution_count": null,
   "metadata": {},
   "outputs": [],
   "source": []
  },
  {
   "cell_type": "code",
   "execution_count": null,
   "metadata": {},
   "outputs": [],
   "source": []
  }
 ],
 "metadata": {
  "kernelspec": {
   "display_name": "python_env",
   "language": "python",
   "name": "python3"
  },
  "language_info": {
   "codemirror_mode": {
    "name": "ipython",
    "version": 3
   },
   "file_extension": ".py",
   "mimetype": "text/x-python",
   "name": "python",
   "nbconvert_exporter": "python",
   "pygments_lexer": "ipython3",
   "version": "3.10.13"
  }
 },
 "nbformat": 4,
 "nbformat_minor": 2
}
